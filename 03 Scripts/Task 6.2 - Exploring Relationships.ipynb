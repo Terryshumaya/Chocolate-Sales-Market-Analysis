{
 "cells": [
  {
   "cell_type": "markdown",
   "id": "df03f896-ad81-44a6-ab32-d1d160d5b2a7",
   "metadata": {},
   "source": [
    "# Task 6.2: Exploring Relationships\n",
    "\n",
    "## This Script contains the following..\n",
    "\n",
    "#### 1. Importing Visualization Libraries and Data\n",
    "#### 2. Defining Analysis questions to explore\n",
    "#### 3. Data Wrangling\n",
    "#### 4. Exploring Relationships\n",
    "        Correlations\n",
    "        Scatterplots\n",
    "        Pair Plots\n",
    "        Categorical Plots\n",
    "\n"
   ]
  },
  {
   "cell_type": "markdown",
   "id": "64502885-03b6-4b75-bad3-be7aeca1b820",
   "metadata": {},
   "source": [
    "### 1. Importing Visualization Libraries and Data"
   ]
  },
  {
   "cell_type": "code",
   "execution_count": 1,
   "id": "a7e8994c-6ecd-4a61-a625-4cb71ae58695",
   "metadata": {},
   "outputs": [],
   "source": [
    "import pandas as pd\n",
    "import numpy as np\n",
    "import seaborn as sns\n",
    "import matplotlib.pyplot as plt\n",
    "import matplotlib\n",
    "import os"
   ]
  },
  {
   "cell_type": "code",
   "execution_count": 2,
   "id": "159ac58e-a5e5-49db-8457-aca11e090114",
   "metadata": {},
   "outputs": [],
   "source": [
    "# This ensures charts created are displayed in the notebook without the need to \"call\" them specifically.\n",
    "%matplotlib inline"
   ]
  },
  {
   "cell_type": "code",
   "execution_count": 3,
   "id": "bd566095-1c04-4a7e-a777-da31361e03e1",
   "metadata": {},
   "outputs": [],
   "source": [
    "# Defining path\n",
    "path = r'C:\\Users\\terry\\Documents\\Data Analytics Course\\Achievement 6'"
   ]
  },
  {
   "cell_type": "code",
   "execution_count": 4,
   "id": "ee81d71e-54ac-4bff-87a0-7613d85396b5",
   "metadata": {},
   "outputs": [],
   "source": [
    "# Importing Data\n",
    "df = pd.read_csv(os.path.join(path, 'Prepared Data', 'Gun_violence_Data_cleaned.csv'))"
   ]
  },
  {
   "cell_type": "markdown",
   "id": "cb356b22-e18c-4279-893a-1c26cd482503",
   "metadata": {},
   "source": [
    "### 2. Defining Analysis Questions to explore\n",
    "\n",
    "#### Descriptive Analysis\n",
    "- How has gun violence changed over time ( yearly, monthly, seasonally)?\n",
    "- What specific regions (states, cities) have higher gun violence rates?\n",
    "- Are there demographic trends (age, gender) in gun violence?\n",
    "\n",
    "#### Correlations\n",
    "- How does ownership rate correlate with gun violence incidents?\n",
    "- How does stolen/illegal gun rate correlate with gun violence incidents?\n"
   ]
  },
  {
   "cell_type": "markdown",
   "id": "24a8e1a1-b7ee-4823-92d6-81a690c689d6",
   "metadata": {},
   "source": [
    "### 2. Data Wrangling"
   ]
  },
  {
   "cell_type": "code",
   "execution_count": 5,
   "id": "920b5f80-f01c-4f6f-844c-59f71d798f8c",
   "metadata": {},
   "outputs": [
    {
     "data": {
      "text/html": [
       "<div>\n",
       "<style scoped>\n",
       "    .dataframe tbody tr th:only-of-type {\n",
       "        vertical-align: middle;\n",
       "    }\n",
       "\n",
       "    .dataframe tbody tr th {\n",
       "        vertical-align: top;\n",
       "    }\n",
       "\n",
       "    .dataframe thead th {\n",
       "        text-align: right;\n",
       "    }\n",
       "</style>\n",
       "<table border=\"1\" class=\"dataframe\">\n",
       "  <thead>\n",
       "    <tr style=\"text-align: right;\">\n",
       "      <th></th>\n",
       "      <th>incident_id</th>\n",
       "      <th>date</th>\n",
       "      <th>state</th>\n",
       "      <th>city_or_county</th>\n",
       "      <th>address</th>\n",
       "      <th>number_killed</th>\n",
       "      <th>number_injured</th>\n",
       "      <th>incident_url</th>\n",
       "      <th>source_url</th>\n",
       "      <th>incident_url_fields_missing</th>\n",
       "      <th>...</th>\n",
       "      <th>number_guns_involved</th>\n",
       "      <th>notes</th>\n",
       "      <th>participant_age</th>\n",
       "      <th>participant_age_group</th>\n",
       "      <th>participant_gender</th>\n",
       "      <th>participant_name</th>\n",
       "      <th>participant_status</th>\n",
       "      <th>participant_type</th>\n",
       "      <th>state_house_district</th>\n",
       "      <th>state_senate_district</th>\n",
       "    </tr>\n",
       "  </thead>\n",
       "  <tbody>\n",
       "    <tr>\n",
       "      <th>0</th>\n",
       "      <td>461105</td>\n",
       "      <td>01/01/2013</td>\n",
       "      <td>Pennsylvania</td>\n",
       "      <td>Mckeesport</td>\n",
       "      <td>1506 Versailles Avenue and Coursin Street</td>\n",
       "      <td>0</td>\n",
       "      <td>4</td>\n",
       "      <td>http://www.gunviolencearchive.org/incident/461105</td>\n",
       "      <td>http://www.post-gazette.com/local/south/2013/0...</td>\n",
       "      <td>False</td>\n",
       "      <td>...</td>\n",
       "      <td>NaN</td>\n",
       "      <td>Julian Sims under investigation: Four Shot and...</td>\n",
       "      <td>0, 20</td>\n",
       "      <td>0, Adult 18+|1, Adult 18+|2, Adult 18+|3, Adul...</td>\n",
       "      <td>0, Male|1, Male|3, Male|4, Female</td>\n",
       "      <td>0, Julian Sims</td>\n",
       "      <td>0, Arrested|1, Injured|2, Injured|3, Injured|4...</td>\n",
       "      <td>0, Victim|1, Victim|2, Victim|3, Victim|4, Sub...</td>\n",
       "      <td>NaN</td>\n",
       "      <td>NaN</td>\n",
       "    </tr>\n",
       "    <tr>\n",
       "      <th>1</th>\n",
       "      <td>460726</td>\n",
       "      <td>01/01/2013</td>\n",
       "      <td>California</td>\n",
       "      <td>Hawthorne</td>\n",
       "      <td>13500 block of Cerise Avenue</td>\n",
       "      <td>1</td>\n",
       "      <td>3</td>\n",
       "      <td>http://www.gunviolencearchive.org/incident/460726</td>\n",
       "      <td>http://www.dailybulletin.com/article/zz/201301...</td>\n",
       "      <td>False</td>\n",
       "      <td>...</td>\n",
       "      <td>NaN</td>\n",
       "      <td>Four Shot; One Killed; Unidentified shooter in...</td>\n",
       "      <td>0, 20</td>\n",
       "      <td>0, Adult 18+|1, Adult 18+|2, Adult 18+|3, Adul...</td>\n",
       "      <td>0, Male</td>\n",
       "      <td>0, Bernard Gillis</td>\n",
       "      <td>0, Killed|1, Injured|2, Injured|3, Injured</td>\n",
       "      <td>0, Victim|1, Victim|2, Victim|3, Victim|4, Sub...</td>\n",
       "      <td>62.0</td>\n",
       "      <td>35.0</td>\n",
       "    </tr>\n",
       "  </tbody>\n",
       "</table>\n",
       "<p>2 rows × 27 columns</p>\n",
       "</div>"
      ],
      "text/plain": [
       "   incident_id        date         state city_or_county  \\\n",
       "0       461105  01/01/2013  Pennsylvania     Mckeesport   \n",
       "1       460726  01/01/2013    California      Hawthorne   \n",
       "\n",
       "                                     address  number_killed  number_injured  \\\n",
       "0  1506 Versailles Avenue and Coursin Street              0               4   \n",
       "1               13500 block of Cerise Avenue              1               3   \n",
       "\n",
       "                                        incident_url  \\\n",
       "0  http://www.gunviolencearchive.org/incident/461105   \n",
       "1  http://www.gunviolencearchive.org/incident/460726   \n",
       "\n",
       "                                          source_url  \\\n",
       "0  http://www.post-gazette.com/local/south/2013/0...   \n",
       "1  http://www.dailybulletin.com/article/zz/201301...   \n",
       "\n",
       "   incident_url_fields_missing  ...  number_guns_involved  \\\n",
       "0                        False  ...                   NaN   \n",
       "1                        False  ...                   NaN   \n",
       "\n",
       "                                               notes participant_age  \\\n",
       "0  Julian Sims under investigation: Four Shot and...           0, 20   \n",
       "1  Four Shot; One Killed; Unidentified shooter in...           0, 20   \n",
       "\n",
       "                               participant_age_group  \\\n",
       "0  0, Adult 18+|1, Adult 18+|2, Adult 18+|3, Adul...   \n",
       "1  0, Adult 18+|1, Adult 18+|2, Adult 18+|3, Adul...   \n",
       "\n",
       "                  participant_gender   participant_name  \\\n",
       "0  0, Male|1, Male|3, Male|4, Female     0, Julian Sims   \n",
       "1                            0, Male  0, Bernard Gillis   \n",
       "\n",
       "                                  participant_status  \\\n",
       "0  0, Arrested|1, Injured|2, Injured|3, Injured|4...   \n",
       "1         0, Killed|1, Injured|2, Injured|3, Injured   \n",
       "\n",
       "                                    participant_type state_house_district  \\\n",
       "0  0, Victim|1, Victim|2, Victim|3, Victim|4, Sub...                  NaN   \n",
       "1  0, Victim|1, Victim|2, Victim|3, Victim|4, Sub...                 62.0   \n",
       "\n",
       "  state_senate_district  \n",
       "0                   NaN  \n",
       "1                  35.0  \n",
       "\n",
       "[2 rows x 27 columns]"
      ]
     },
     "execution_count": 5,
     "metadata": {},
     "output_type": "execute_result"
    }
   ],
   "source": [
    "# Checking imported Dataframe\n",
    "df.head(2)"
   ]
  },
  {
   "cell_type": "code",
   "execution_count": 6,
   "id": "5532512e-094a-4e86-945c-62fa74dd56c9",
   "metadata": {},
   "outputs": [
    {
     "data": {
      "text/plain": [
       "(239677, 27)"
      ]
     },
     "execution_count": 6,
     "metadata": {},
     "output_type": "execute_result"
    }
   ],
   "source": [
    "df.shape"
   ]
  },
  {
   "cell_type": "code",
   "execution_count": 7,
   "id": "2b9729de-0891-4a17-977f-d0c7a665c891",
   "metadata": {},
   "outputs": [],
   "source": [
    "# Selecting variables relevant to analysis \n",
    "df_relevant_var = df[['number_killed', 'number_injured', 'gun_stolen', 'gun_type', 'participant_age', 'participant_gender']]"
   ]
  },
  {
   "cell_type": "code",
   "execution_count": 8,
   "id": "e8adde01-f914-4757-ab19-9151e8d71bf9",
   "metadata": {},
   "outputs": [
    {
     "data": {
      "text/html": [
       "<div>\n",
       "<style scoped>\n",
       "    .dataframe tbody tr th:only-of-type {\n",
       "        vertical-align: middle;\n",
       "    }\n",
       "\n",
       "    .dataframe tbody tr th {\n",
       "        vertical-align: top;\n",
       "    }\n",
       "\n",
       "    .dataframe thead th {\n",
       "        text-align: right;\n",
       "    }\n",
       "</style>\n",
       "<table border=\"1\" class=\"dataframe\">\n",
       "  <thead>\n",
       "    <tr style=\"text-align: right;\">\n",
       "      <th></th>\n",
       "      <th>number_killed</th>\n",
       "      <th>number_injured</th>\n",
       "      <th>gun_stolen</th>\n",
       "      <th>gun_type</th>\n",
       "      <th>participant_age</th>\n",
       "      <th>participant_gender</th>\n",
       "    </tr>\n",
       "  </thead>\n",
       "  <tbody>\n",
       "    <tr>\n",
       "      <th>0</th>\n",
       "      <td>0</td>\n",
       "      <td>4</td>\n",
       "      <td>NaN</td>\n",
       "      <td>NaN</td>\n",
       "      <td>0, 20</td>\n",
       "      <td>0, Male|1, Male|3, Male|4, Female</td>\n",
       "    </tr>\n",
       "    <tr>\n",
       "      <th>1</th>\n",
       "      <td>1</td>\n",
       "      <td>3</td>\n",
       "      <td>NaN</td>\n",
       "      <td>NaN</td>\n",
       "      <td>0, 20</td>\n",
       "      <td>0, Male</td>\n",
       "    </tr>\n",
       "    <tr>\n",
       "      <th>2</th>\n",
       "      <td>1</td>\n",
       "      <td>3</td>\n",
       "      <td>0, Unknown|1, Unknown</td>\n",
       "      <td>0, Unknown|1, Unknown</td>\n",
       "      <td>0, 25|1, 31|2, 33|3, 34|4, 33</td>\n",
       "      <td>0, Male|1, Male|2, Male|3, Male|4, Male</td>\n",
       "    </tr>\n",
       "    <tr>\n",
       "      <th>3</th>\n",
       "      <td>4</td>\n",
       "      <td>0</td>\n",
       "      <td>NaN</td>\n",
       "      <td>NaN</td>\n",
       "      <td>0, 29|1, 33|2, 56|3, 33</td>\n",
       "      <td>0, Female|1, Male|2, Male|3, Male</td>\n",
       "    </tr>\n",
       "    <tr>\n",
       "      <th>4</th>\n",
       "      <td>2</td>\n",
       "      <td>2</td>\n",
       "      <td>0, Unknown|1, Unknown</td>\n",
       "      <td>0, Handgun|1, Handgun</td>\n",
       "      <td>0, 18|1, 46|2, 14|3, 47</td>\n",
       "      <td>0, Female|1, Male|2, Male|3, Female</td>\n",
       "    </tr>\n",
       "  </tbody>\n",
       "</table>\n",
       "</div>"
      ],
      "text/plain": [
       "   number_killed  number_injured             gun_stolen  \\\n",
       "0              0               4                    NaN   \n",
       "1              1               3                    NaN   \n",
       "2              1               3  0, Unknown|1, Unknown   \n",
       "3              4               0                    NaN   \n",
       "4              2               2  0, Unknown|1, Unknown   \n",
       "\n",
       "                gun_type                participant_age  \\\n",
       "0                    NaN                          0, 20   \n",
       "1                    NaN                          0, 20   \n",
       "2  0, Unknown|1, Unknown  0, 25|1, 31|2, 33|3, 34|4, 33   \n",
       "3                    NaN        0, 29|1, 33|2, 56|3, 33   \n",
       "4  0, Handgun|1, Handgun        0, 18|1, 46|2, 14|3, 47   \n",
       "\n",
       "                        participant_gender  \n",
       "0        0, Male|1, Male|3, Male|4, Female  \n",
       "1                                  0, Male  \n",
       "2  0, Male|1, Male|2, Male|3, Male|4, Male  \n",
       "3        0, Female|1, Male|2, Male|3, Male  \n",
       "4      0, Female|1, Male|2, Male|3, Female  "
      ]
     },
     "execution_count": 8,
     "metadata": {},
     "output_type": "execute_result"
    }
   ],
   "source": [
    "# Checking new dataframe subset\n",
    "df_relevant_var. head()"
   ]
  },
  {
   "cell_type": "code",
   "execution_count": 9,
   "id": "7474a77d-bb7e-4f59-9947-1ffd8454760a",
   "metadata": {},
   "outputs": [
    {
     "data": {
      "text/plain": [
       "(239677, 6)"
      ]
     },
     "execution_count": 9,
     "metadata": {},
     "output_type": "execute_result"
    }
   ],
   "source": [
    "df_relevant_var.shape"
   ]
  },
  {
   "cell_type": "markdown",
   "id": "26cd7d91-eefd-46e1-837f-19fcfe5e93e7",
   "metadata": {},
   "source": [
    "### Exploring relationships\n",
    "\n",
    "#### Correlations"
   ]
  },
  {
   "cell_type": "code",
   "execution_count": 10,
   "id": "f6faf09d-69e8-4cfd-8a5b-f6b50eddbbd9",
   "metadata": {},
   "outputs": [
    {
     "data": {
      "text/html": [
       "<div>\n",
       "<style scoped>\n",
       "    .dataframe tbody tr th:only-of-type {\n",
       "        vertical-align: middle;\n",
       "    }\n",
       "\n",
       "    .dataframe tbody tr th {\n",
       "        vertical-align: top;\n",
       "    }\n",
       "\n",
       "    .dataframe thead th {\n",
       "        text-align: right;\n",
       "    }\n",
       "</style>\n",
       "<table border=\"1\" class=\"dataframe\">\n",
       "  <thead>\n",
       "    <tr style=\"text-align: right;\">\n",
       "      <th></th>\n",
       "      <th>incident_id</th>\n",
       "      <th>number_killed</th>\n",
       "      <th>number_injured</th>\n",
       "      <th>congressional_district</th>\n",
       "      <th>latitude</th>\n",
       "      <th>longitude</th>\n",
       "      <th>number_guns_involved</th>\n",
       "      <th>state_house_district</th>\n",
       "      <th>state_senate_district</th>\n",
       "    </tr>\n",
       "  </thead>\n",
       "  <tbody>\n",
       "    <tr>\n",
       "      <th>incident_id</th>\n",
       "      <td>1.000000</td>\n",
       "      <td>0.005052</td>\n",
       "      <td>0.009060</td>\n",
       "      <td>-0.003585</td>\n",
       "      <td>0.019365</td>\n",
       "      <td>-0.017031</td>\n",
       "      <td>-0.029638</td>\n",
       "      <td>-0.002243</td>\n",
       "      <td>-0.007790</td>\n",
       "    </tr>\n",
       "    <tr>\n",
       "      <th>number_killed</th>\n",
       "      <td>0.005052</td>\n",
       "      <td>1.000000</td>\n",
       "      <td>-0.125425</td>\n",
       "      <td>0.055545</td>\n",
       "      <td>-0.080078</td>\n",
       "      <td>-0.062149</td>\n",
       "      <td>-0.028200</td>\n",
       "      <td>-0.006015</td>\n",
       "      <td>-0.010650</td>\n",
       "    </tr>\n",
       "    <tr>\n",
       "      <th>number_injured</th>\n",
       "      <td>0.009060</td>\n",
       "      <td>-0.125425</td>\n",
       "      <td>1.000000</td>\n",
       "      <td>-0.007636</td>\n",
       "      <td>-0.011379</td>\n",
       "      <td>0.036962</td>\n",
       "      <td>-0.038843</td>\n",
       "      <td>-0.030355</td>\n",
       "      <td>-0.044294</td>\n",
       "    </tr>\n",
       "    <tr>\n",
       "      <th>congressional_district</th>\n",
       "      <td>-0.003585</td>\n",
       "      <td>0.055545</td>\n",
       "      <td>-0.007636</td>\n",
       "      <td>1.000000</td>\n",
       "      <td>-0.259488</td>\n",
       "      <td>-0.215606</td>\n",
       "      <td>0.021249</td>\n",
       "      <td>0.228827</td>\n",
       "      <td>0.309116</td>\n",
       "    </tr>\n",
       "    <tr>\n",
       "      <th>latitude</th>\n",
       "      <td>0.019365</td>\n",
       "      <td>-0.080078</td>\n",
       "      <td>-0.011379</td>\n",
       "      <td>-0.259488</td>\n",
       "      <td>1.000000</td>\n",
       "      <td>-0.056713</td>\n",
       "      <td>-0.001341</td>\n",
       "      <td>-0.237958</td>\n",
       "      <td>0.028611</td>\n",
       "    </tr>\n",
       "    <tr>\n",
       "      <th>longitude</th>\n",
       "      <td>-0.017031</td>\n",
       "      <td>-0.062149</td>\n",
       "      <td>0.036962</td>\n",
       "      <td>-0.215606</td>\n",
       "      <td>-0.056713</td>\n",
       "      <td>1.000000</td>\n",
       "      <td>-0.016107</td>\n",
       "      <td>0.236450</td>\n",
       "      <td>0.113408</td>\n",
       "    </tr>\n",
       "    <tr>\n",
       "      <th>number_guns_involved</th>\n",
       "      <td>-0.029638</td>\n",
       "      <td>-0.028200</td>\n",
       "      <td>-0.038843</td>\n",
       "      <td>0.021249</td>\n",
       "      <td>-0.001341</td>\n",
       "      <td>-0.016107</td>\n",
       "      <td>1.000000</td>\n",
       "      <td>-0.003324</td>\n",
       "      <td>0.004247</td>\n",
       "    </tr>\n",
       "    <tr>\n",
       "      <th>state_house_district</th>\n",
       "      <td>-0.002243</td>\n",
       "      <td>-0.006015</td>\n",
       "      <td>-0.030355</td>\n",
       "      <td>0.228827</td>\n",
       "      <td>-0.237958</td>\n",
       "      <td>0.236450</td>\n",
       "      <td>-0.003324</td>\n",
       "      <td>1.000000</td>\n",
       "      <td>0.431299</td>\n",
       "    </tr>\n",
       "    <tr>\n",
       "      <th>state_senate_district</th>\n",
       "      <td>-0.007790</td>\n",
       "      <td>-0.010650</td>\n",
       "      <td>-0.044294</td>\n",
       "      <td>0.309116</td>\n",
       "      <td>0.028611</td>\n",
       "      <td>0.113408</td>\n",
       "      <td>0.004247</td>\n",
       "      <td>0.431299</td>\n",
       "      <td>1.000000</td>\n",
       "    </tr>\n",
       "  </tbody>\n",
       "</table>\n",
       "</div>"
      ],
      "text/plain": [
       "                        incident_id  number_killed  number_injured  \\\n",
       "incident_id                1.000000       0.005052        0.009060   \n",
       "number_killed              0.005052       1.000000       -0.125425   \n",
       "number_injured             0.009060      -0.125425        1.000000   \n",
       "congressional_district    -0.003585       0.055545       -0.007636   \n",
       "latitude                   0.019365      -0.080078       -0.011379   \n",
       "longitude                 -0.017031      -0.062149        0.036962   \n",
       "number_guns_involved      -0.029638      -0.028200       -0.038843   \n",
       "state_house_district      -0.002243      -0.006015       -0.030355   \n",
       "state_senate_district     -0.007790      -0.010650       -0.044294   \n",
       "\n",
       "                        congressional_district  latitude  longitude  \\\n",
       "incident_id                          -0.003585  0.019365  -0.017031   \n",
       "number_killed                         0.055545 -0.080078  -0.062149   \n",
       "number_injured                       -0.007636 -0.011379   0.036962   \n",
       "congressional_district                1.000000 -0.259488  -0.215606   \n",
       "latitude                             -0.259488  1.000000  -0.056713   \n",
       "longitude                            -0.215606 -0.056713   1.000000   \n",
       "number_guns_involved                  0.021249 -0.001341  -0.016107   \n",
       "state_house_district                  0.228827 -0.237958   0.236450   \n",
       "state_senate_district                 0.309116  0.028611   0.113408   \n",
       "\n",
       "                        number_guns_involved  state_house_district  \\\n",
       "incident_id                        -0.029638             -0.002243   \n",
       "number_killed                      -0.028200             -0.006015   \n",
       "number_injured                     -0.038843             -0.030355   \n",
       "congressional_district              0.021249              0.228827   \n",
       "latitude                           -0.001341             -0.237958   \n",
       "longitude                          -0.016107              0.236450   \n",
       "number_guns_involved                1.000000             -0.003324   \n",
       "state_house_district               -0.003324              1.000000   \n",
       "state_senate_district               0.004247              0.431299   \n",
       "\n",
       "                        state_senate_district  \n",
       "incident_id                         -0.007790  \n",
       "number_killed                       -0.010650  \n",
       "number_injured                      -0.044294  \n",
       "congressional_district               0.309116  \n",
       "latitude                             0.028611  \n",
       "longitude                            0.113408  \n",
       "number_guns_involved                 0.004247  \n",
       "state_house_district                 0.431299  \n",
       "state_senate_district                1.000000  "
      ]
     },
     "execution_count": 10,
     "metadata": {},
     "output_type": "execute_result"
    }
   ],
   "source": [
    "# Creating a correlation matrix using pandas\n",
    "# Selecting only columns with numerical values in order to avoid errors\n",
    "numerical_columns = df.select_dtypes(include=['float', 'int64'])\n",
    "numerical_columns.corr()\n"
   ]
  },
  {
   "cell_type": "code",
   "execution_count": 11,
   "id": "6fbe9fe8-4e1f-4e49-b4c3-7e8be58d3ee3",
   "metadata": {},
   "outputs": [],
   "source": [
    "# Dropping Incident id\n",
    "numerical_columns = numerical_columns.drop('incident_id', axis=1)"
   ]
  },
  {
   "cell_type": "code",
   "execution_count": 12,
   "id": "a7574951-2376-4b0e-b79b-783123a17320",
   "metadata": {},
   "outputs": [
    {
     "data": {
      "image/png": "[encoded data removed]",
      "text/plain": [
       "<Figure size 480x480 with 1 Axes>"
      ]
     },
     "metadata": {},
     "output_type": "display_data"
    }
   ],
   "source": [
    "# Creating a correlation heatmap using matplotlib\n",
    "plt.matshow(numerical_columns.corr())\n",
    "plt.show()"
   ]
  },
  {
   "cell_type": "code",
   "execution_count": 13,
   "id": "f4230f6e-1161-4eb9-be56-6031b49d6831",
   "metadata": {},
   "outputs": [],
   "source": [
    "#saving figure\n",
    "plt.matshow(numerical_columns.corr())\n",
    "plt.savefig('corr_output.png')"
   ]
  },
  {
   "cell_type": "code",
   "execution_count": 14,
   "id": "a7278e57-e67d-43f9-938d-cab263e696ba",
   "metadata": {},
   "outputs": [
    {
     "data": {
      "text/plain": [
       "'C:\\\\Users\\\\terry\\\\Documents\\\\Data Analytics Course\\\\Achievement 6\\\\Jupyter Notebooks'"
      ]
     },
     "execution_count": 14,
     "metadata": {},
     "output_type": "execute_result"
    }
   ],
   "source": [
    "# Current image directory\n",
    "cwd = os.getcwd()\n",
    "cwd"
   ]
  },
  {
   "cell_type": "code",
   "execution_count": 15,
   "id": "aa06f199-49a1-4ea2-92c8-3a463289f009",
   "metadata": {},
   "outputs": [
    {
     "ename": "ValueError",
     "evalue": "The truth value of an array with more than one element is ambiguous. Use a.any() or a.all()",
     "output_type": "error",
     "traceback": [
      "\u001b[1;31m---------------------------------------------------------------------------\u001b[0m",
      "\u001b[1;31mValueError\u001b[0m                                Traceback (most recent call last)",
      "Cell \u001b[1;32mIn[15], line 4\u001b[0m\n\u001b[0;32m      1\u001b[0m \u001b[38;5;66;03m# adding labels, a legend and changing the size of the heatmap\u001b[39;00m\n\u001b[0;32m      3\u001b[0m f \u001b[38;5;241m=\u001b[39m plt\u001b[38;5;241m.\u001b[39mfigure(figsize\u001b[38;5;241m=\u001b[39m(\u001b[38;5;241m8\u001b[39m, \u001b[38;5;241m8\u001b[39m)) \u001b[38;5;66;03m# Figure size\u001b[39;00m\n\u001b[1;32m----> 4\u001b[0m plt\u001b[38;5;241m.\u001b[39mmatshow(numerical_columns\u001b[38;5;241m.\u001b[39mcorr(), fignum\u001b[38;5;241m=\u001b[39mf\u001b[38;5;241m.\u001b[39mnumber) \u001b[38;5;66;03m# type of plot\u001b[39;00m\n\u001b[0;32m      5\u001b[0m plt\u001b[38;5;241m.\u001b[39mxticks(\u001b[38;5;28mrange\u001b[39m(numerical_columns\u001b[38;5;241m.\u001b[39mshape[\u001b[38;5;241m1\u001b[39m]), numerical_columns\u001b[38;5;241m.\u001b[39mcolumns, fontsize\u001b[38;5;241m=\u001b[39m\u001b[38;5;241m12\u001b[39m, rotation\u001b[38;5;241m=\u001b[39m\u001b[38;5;241m90\u001b[39m) \u001b[38;5;66;03m# x axis labels\u001b[39;00m\n\u001b[0;32m      6\u001b[0m plt\u001b[38;5;241m.\u001b[39myticks(\u001b[38;5;28mrange\u001b[39m(numerical_columns\u001b[38;5;241m.\u001b[39mshape[\u001b[38;5;241m1\u001b[39m]), numerical_columns\u001b[38;5;241m.\u001b[39mcolumns, fontsize\u001b[38;5;241m=\u001b[39m\u001b[38;5;241m12\u001b[39m) \u001b[38;5;66;03m# y axis labels\u001b[39;00m\n",
      "File \u001b[1;32m~\\anaconda3\\Lib\\site-packages\\matplotlib\\pyplot.py:2673\u001b[0m, in \u001b[0;36mmatshow\u001b[1;34m(A, fignum, **kwargs)\u001b[0m\n\u001b[0;32m   2669\u001b[0m     ax \u001b[38;5;241m=\u001b[39m gca()\n\u001b[0;32m   2670\u001b[0m \u001b[38;5;28;01melse\u001b[39;00m:\n\u001b[0;32m   2671\u001b[0m     \u001b[38;5;66;03m# Extract actual aspect ratio of array and make appropriately sized\u001b[39;00m\n\u001b[0;32m   2672\u001b[0m     \u001b[38;5;66;03m# figure.\u001b[39;00m\n\u001b[1;32m-> 2673\u001b[0m     fig \u001b[38;5;241m=\u001b[39m figure(fignum, figsize\u001b[38;5;241m=\u001b[39mfigaspect(A))\n\u001b[0;32m   2674\u001b[0m     ax \u001b[38;5;241m=\u001b[39m fig\u001b[38;5;241m.\u001b[39madd_axes((\u001b[38;5;241m0.15\u001b[39m, \u001b[38;5;241m0.09\u001b[39m, \u001b[38;5;241m0.775\u001b[39m, \u001b[38;5;241m0.775\u001b[39m))\n\u001b[0;32m   2675\u001b[0m im \u001b[38;5;241m=\u001b[39m ax\u001b[38;5;241m.\u001b[39mmatshow(A, \u001b[38;5;241m*\u001b[39m\u001b[38;5;241m*\u001b[39mkwargs)\n",
      "File \u001b[1;32m~\\anaconda3\\Lib\\site-packages\\matplotlib\\pyplot.py:1010\u001b[0m, in \u001b[0;36mfigure\u001b[1;34m(num, figsize, dpi, facecolor, edgecolor, frameon, FigureClass, clear, **kwargs)\u001b[0m\n\u001b[0;32m   1008\u001b[0m     num \u001b[38;5;241m=\u001b[39m next_num\n\u001b[0;32m   1009\u001b[0m \u001b[38;5;28;01melse\u001b[39;00m:\n\u001b[1;32m-> 1010\u001b[0m     \u001b[38;5;28;01mif\u001b[39;00m \u001b[38;5;28many\u001b[39m([figsize, dpi, facecolor, edgecolor, \u001b[38;5;129;01mnot\u001b[39;00m frameon,\n\u001b[0;32m   1011\u001b[0m             kwargs]) \u001b[38;5;129;01mand\u001b[39;00m num \u001b[38;5;129;01min\u001b[39;00m allnums:\n\u001b[0;32m   1012\u001b[0m         _api\u001b[38;5;241m.\u001b[39mwarn_external(\n\u001b[0;32m   1013\u001b[0m             \u001b[38;5;124m\"\u001b[39m\u001b[38;5;124mIgnoring specified arguments in this call \u001b[39m\u001b[38;5;124m\"\u001b[39m\n\u001b[0;32m   1014\u001b[0m             \u001b[38;5;124mf\u001b[39m\u001b[38;5;124m\"\u001b[39m\u001b[38;5;124mbecause figure with num: \u001b[39m\u001b[38;5;132;01m{\u001b[39;00mnum\u001b[38;5;132;01m}\u001b[39;00m\u001b[38;5;124m already exists\u001b[39m\u001b[38;5;124m\"\u001b[39m)\n\u001b[0;32m   1015\u001b[0m     \u001b[38;5;28;01mif\u001b[39;00m \u001b[38;5;28misinstance\u001b[39m(num, \u001b[38;5;28mstr\u001b[39m):\n",
      "\u001b[1;31mValueError\u001b[0m: The truth value of an array with more than one element is ambiguous. Use a.any() or a.all()"
     ]
    }
   ],
   "source": [
    "# adding labels, a legend and changing the size of the heatmap\n",
    "\n",
    "f = plt.figure(figsize=(8, 8)) # Figure size\n",
    "plt.matshow(numerical_columns.corr(), fignum=f.number) # type of plot\n",
    "plt.xticks(range(numerical_columns.shape[1]), numerical_columns.columns, fontsize=12, rotation=90) # x axis labels\n",
    "plt.yticks(range(numerical_columns.shape[1]), numerical_columns.columns, fontsize=12) # y axis labels\n",
    "cb = plt.colorbar() # adding a colour legend (called colorbar)\n",
    "cb.ax.tick_params(labelsize=10) # adding fon size\n",
    "plt.title('Correlation Matrix', fontsize=14) # adding title\n"
   ]
  },
  {
   "cell_type": "markdown",
   "id": "c220eaae-8126-4263-a0c6-896a18631824",
   "metadata": {},
   "source": [
    "### Creating a correlation heatmap using seaborn"
   ]
  },
  {
   "cell_type": "code",
   "execution_count": 16,
   "id": "996b295d-ae11-41ab-8c90-1a84ba2de99f",
   "metadata": {},
   "outputs": [
    {
     "data": {
      "text/plain": [
       "Index(['number_killed', 'number_injured', 'congressional_district', 'latitude',\n",
       "       'longitude', 'number_guns_involved', 'state_house_district',\n",
       "       'state_senate_district'],\n",
       "      dtype='object')"
      ]
     },
     "execution_count": 16,
     "metadata": {},
     "output_type": "execute_result"
    }
   ],
   "source": [
    "numerical_columns.columns"
   ]
  },
  {
   "cell_type": "code",
   "execution_count": 20,
   "id": "f85d0d52-49bd-42f6-928a-37ae20c98ad0",
   "metadata": {},
   "outputs": [],
   "source": [
    "# Creating a subplot with matplotlib\n",
    "f,ax = plt.subplots(figsize=(10,10))\n",
    "\n",
    "# Creating a correlation heatmap in seaborn by applying a heatmap onto the correlation matrix \n",
    "corr = sns.heatmap(numerical_columns.corr(), annot = True, ax = ax) # The 'annot' argument allows the plot to place the\n",
    "# place the correlation coefficients onto the heatmap\n"
   ]
  },
  {
   "cell_type": "markdown",
   "id": "fcdc6b08-5438-496b-a02d-c584d9c198ed",
   "metadata": {},
   "source": [
    "### Scatterplots:"
   ]
  },
  {
   "cell_type": "code",
   "execution_count": 104,
   "id": "6a829f40-e046-4aa8-9fd4-54f22003f42a",
   "metadata": {},
   "outputs": [
    {
     "data": {
      "text/plain": [
       "<seaborn.axisgrid.FacetGrid at 0x230ca4712b0>"
      ]
     },
     "execution_count": 104,
     "metadata": {},
     "output_type": "execute_result"
    }
   ],
   "source": [
    "# Creating a scatterplot for the \"Congressional District\" and \"number_killed\" columns in seaborn\n",
    "sns.lmplot(x = 'congressional_district', y = 'number_killed', data = numerical_columns)"
   ]
  },
  {
   "cell_type": "code",
   "execution_count": 105,
   "id": "6449559a-e859-4dd5-b7dc-5af75d52eec2",
   "metadata": {},
   "outputs": [
    {
     "data": {
      "image/png": "[encoded data removed]",
      "text/plain": [
       "<Figure size 500x500 with 1 Axes>"
      ]
     },
     "metadata": {},
     "output_type": "display_data"
    }
   ],
   "source": [
    "plt.show()"
   ]
  },
  {
   "cell_type": "code",
   "execution_count": null,
   "id": "0b1bb9af-9d56-4df1-8c09-9e442d315d0a",
   "metadata": {},
   "outputs": [],
   "source": []
  }
 ],
 "metadata": {
  "kernelspec": {
   "display_name": "Python 3 (ipykernel)",
   "language": "python",
   "name": "python3"
  },
  "language_info": {
   "codemirror_mode": {
    "name": "ipython",
    "version": 3
   },
   "file_extension": ".py",
   "mimetype": "text/x-python",
   "name": "python",
   "nbconvert_exporter": "python",
   "pygments_lexer": "ipython3",
   "version": "3.12.7"
  }
 },
 "nbformat": 4,
 "nbformat_minor": 5
}
